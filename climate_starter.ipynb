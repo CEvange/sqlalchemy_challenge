{
 "cells": [
  {
   "cell_type": "code",
   "execution_count": 1,
   "metadata": {},
   "outputs": [],
   "source": [
    "%matplotlib inline\n",
    "from matplotlib import style\n",
    "style.use('fivethirtyeight')\n",
    "import matplotlib.pyplot as plt"
   ]
  },
  {
   "cell_type": "code",
   "execution_count": 2,
   "metadata": {},
   "outputs": [],
   "source": [
    "import numpy as np\n",
    "import pandas as pd"
   ]
  },
  {
   "cell_type": "code",
   "execution_count": 3,
   "metadata": {},
   "outputs": [],
   "source": [
    "import datetime as dt\n",
    "from dateutil.relativedelta import relativedelta\n"
   ]
  },
  {
   "cell_type": "markdown",
   "metadata": {},
   "source": [
    "# Reflect Tables into SQLAlchemy ORM"
   ]
  },
  {
   "cell_type": "code",
   "execution_count": 4,
   "metadata": {},
   "outputs": [],
   "source": [
    "# Python SQL toolkit and Object Relational Mapper\n",
    "import sqlalchemy\n",
    "from sqlalchemy.ext.automap import automap_base\n",
    "from sqlalchemy.orm import Session\n",
    "from sqlalchemy import create_engine, inspect, func"
   ]
  },
  {
   "cell_type": "code",
   "execution_count": 5,
   "metadata": {},
   "outputs": [],
   "source": [
    "engine = create_engine(\"sqlite:///Resources/hawaii.sqlite\", echo =False)"
   ]
  },
  {
   "cell_type": "code",
   "execution_count": 6,
   "metadata": {},
   "outputs": [
    {
     "data": {
      "text/plain": [
       "['measurement', 'station']"
      ]
     },
     "execution_count": 6,
     "metadata": {},
     "output_type": "execute_result"
    }
   ],
   "source": [
    "# Create the inspector and connect it to the engine\n",
    "inspector = inspect(engine)\n",
    "inspector.get_table_names()"
   ]
  },
  {
   "cell_type": "code",
   "execution_count": 7,
   "metadata": {},
   "outputs": [
    {
     "name": "stdout",
     "output_type": "stream",
     "text": [
      "id INTEGER\n",
      "station TEXT\n",
      "date TEXT\n",
      "prcp FLOAT\n",
      "tobs FLOAT\n"
     ]
    }
   ],
   "source": [
    "# Using the inspector to print the column names\n",
    "columns = inspector.get_columns('measurement')\n",
    "for column in columns:\n",
    "    print(column[\"name\"], column[\"type\"])"
   ]
  },
  {
   "cell_type": "code",
   "execution_count": 8,
   "metadata": {},
   "outputs": [
    {
     "name": "stdout",
     "output_type": "stream",
     "text": [
      "id INTEGER\n",
      "station TEXT\n",
      "name TEXT\n",
      "latitude FLOAT\n",
      "longitude FLOAT\n",
      "elevation FLOAT\n"
     ]
    }
   ],
   "source": [
    "# Using the inspector to print the column names\n",
    "columns = inspector.get_columns('station')\n",
    "for column in columns:\n",
    "    print(column[\"name\"], column[\"type\"])"
   ]
  },
  {
   "cell_type": "code",
   "execution_count": 9,
   "metadata": {},
   "outputs": [
    {
     "data": {
      "text/plain": [
       "[(1, 'USC00519397', '2010-01-01', 0.08, 65.0),\n",
       " (2, 'USC00519397', '2010-01-02', 0.0, 63.0),\n",
       " (3, 'USC00519397', '2010-01-03', 0.0, 74.0),\n",
       " (4, 'USC00519397', '2010-01-04', 0.0, 76.0),\n",
       " (5, 'USC00519397', '2010-01-06', None, 73.0)]"
      ]
     },
     "execution_count": 9,
     "metadata": {},
     "output_type": "execute_result"
    }
   ],
   "source": [
    "engine.execute('SELECT * FROM measurement LIMIT 5').fetchall()"
   ]
  },
  {
   "cell_type": "code",
   "execution_count": 10,
   "metadata": {},
   "outputs": [
    {
     "data": {
      "text/plain": [
       "[(1, 'USC00519397', 'WAIKIKI 717.2, HI US', 21.2716, -157.8168, 3.0),\n",
       " (2, 'USC00513117', 'KANEOHE 838.1, HI US', 21.4234, -157.8015, 14.6),\n",
       " (3, 'USC00514830', 'KUALOA RANCH HEADQUARTERS 886.9, HI US', 21.5213, -157.8374, 7.0),\n",
       " (4, 'USC00517948', 'PEARL CITY, HI US', 21.3934, -157.9751, 11.9),\n",
       " (5, 'USC00518838', 'UPPER WAHIAWA 874.3, HI US', 21.4992, -158.0111, 306.6)]"
      ]
     },
     "execution_count": 10,
     "metadata": {},
     "output_type": "execute_result"
    }
   ],
   "source": [
    "engine.execute('SELECT * FROM station LIMIT 5').fetchall()"
   ]
  },
  {
   "cell_type": "code",
   "execution_count": 11,
   "metadata": {},
   "outputs": [
    {
     "data": {
      "text/plain": [
       "['measurement', 'station']"
      ]
     },
     "execution_count": 11,
     "metadata": {},
     "output_type": "execute_result"
    }
   ],
   "source": [
    "# reflect an existing database into a new model\n",
    "Base = automap_base()\n",
    "Base.prepare(engine, reflect=True)\n",
    "Base.classes.keys()\n",
    "# reflect the tables"
   ]
  },
  {
   "cell_type": "code",
   "execution_count": 12,
   "metadata": {},
   "outputs": [],
   "source": [
    "# We can view all of the classes that automap found\n",
    "Measurement = Base.classes.measurement"
   ]
  },
  {
   "cell_type": "code",
   "execution_count": 13,
   "metadata": {},
   "outputs": [],
   "source": [
    "Station = Base.classes.station"
   ]
  },
  {
   "cell_type": "code",
   "execution_count": 14,
   "metadata": {},
   "outputs": [],
   "source": [
    "# Create our session (link) from Python to the DB\n",
    "session = Session(engine)"
   ]
  },
  {
   "cell_type": "markdown",
   "metadata": {},
   "source": [
    "# Exploratory Climate Analysis"
   ]
  },
  {
   "cell_type": "code",
   "execution_count": 15,
   "metadata": {},
   "outputs": [
    {
     "data": {
      "text/plain": [
       "'2017-08-23'"
      ]
     },
     "execution_count": 15,
     "metadata": {},
     "output_type": "execute_result"
    }
   ],
   "source": [
    "latestdate = session.query(func.max(Measurement.date)).scalar()\n",
    "latestdate"
   ]
  },
  {
   "cell_type": "code",
   "execution_count": 16,
   "metadata": {},
   "outputs": [
    {
     "data": {
      "text/plain": [
       "'2016-08-23'"
      ]
     },
     "execution_count": 16,
     "metadata": {},
     "output_type": "execute_result"
    }
   ],
   "source": [
    "# Calculate the date 1 year ago from the last data point in the database\n",
    "last12months= dt.datetime.strptime(latestdate, '%Y-%m-%d') - dt.timedelta(days=365)\n",
    "last12months = last12months.strftime('%Y-%m-%d')\n",
    "last12months"
   ]
  },
  {
   "cell_type": "code",
   "execution_count": 17,
   "metadata": {},
   "outputs": [],
   "source": [
    "# Design a query to retrieve the last 12 months of precipitation data and plot the results\n",
    "precipitation = session.query(Measurement.date,Measurement.prcp).\\\n",
    "    filter(Measurement.date >= last12months).all()\n"
   ]
  },
  {
   "cell_type": "code",
   "execution_count": 18,
   "metadata": {},
   "outputs": [
    {
     "name": "stdout",
     "output_type": "stream",
     "text": [
      "('2016-08-23', 0.0)\n"
     ]
    }
   ],
   "source": [
    "print(precipitation[0])"
   ]
  },
  {
   "cell_type": "code",
   "execution_count": 19,
   "metadata": {},
   "outputs": [
    {
     "data": {
      "text/html": [
       "<div>\n",
       "<style scoped>\n",
       "    .dataframe tbody tr th:only-of-type {\n",
       "        vertical-align: middle;\n",
       "    }\n",
       "\n",
       "    .dataframe tbody tr th {\n",
       "        vertical-align: top;\n",
       "    }\n",
       "\n",
       "    .dataframe thead th {\n",
       "        text-align: right;\n",
       "    }\n",
       "</style>\n",
       "<table border=\"1\" class=\"dataframe\">\n",
       "  <thead>\n",
       "    <tr style=\"text-align: right;\">\n",
       "      <th></th>\n",
       "      <th>Precipitation</th>\n",
       "    </tr>\n",
       "    <tr>\n",
       "      <th>Date</th>\n",
       "      <th></th>\n",
       "    </tr>\n",
       "  </thead>\n",
       "  <tbody>\n",
       "    <tr>\n",
       "      <th>2016-08-23</th>\n",
       "      <td>0.00</td>\n",
       "    </tr>\n",
       "    <tr>\n",
       "      <th>2016-08-23</th>\n",
       "      <td>NaN</td>\n",
       "    </tr>\n",
       "    <tr>\n",
       "      <th>2016-08-23</th>\n",
       "      <td>1.79</td>\n",
       "    </tr>\n",
       "    <tr>\n",
       "      <th>2016-08-23</th>\n",
       "      <td>0.05</td>\n",
       "    </tr>\n",
       "    <tr>\n",
       "      <th>2016-08-23</th>\n",
       "      <td>0.15</td>\n",
       "    </tr>\n",
       "    <tr>\n",
       "      <th>2016-08-23</th>\n",
       "      <td>0.70</td>\n",
       "    </tr>\n",
       "    <tr>\n",
       "      <th>2016-08-23</th>\n",
       "      <td>0.02</td>\n",
       "    </tr>\n",
       "    <tr>\n",
       "      <th>2016-08-24</th>\n",
       "      <td>0.08</td>\n",
       "    </tr>\n",
       "    <tr>\n",
       "      <th>2016-08-24</th>\n",
       "      <td>2.15</td>\n",
       "    </tr>\n",
       "    <tr>\n",
       "      <th>2016-08-24</th>\n",
       "      <td>2.28</td>\n",
       "    </tr>\n",
       "  </tbody>\n",
       "</table>\n",
       "</div>"
      ],
      "text/plain": [
       "            Precipitation\n",
       "Date                     \n",
       "2016-08-23           0.00\n",
       "2016-08-23            NaN\n",
       "2016-08-23           1.79\n",
       "2016-08-23           0.05\n",
       "2016-08-23           0.15\n",
       "2016-08-23           0.70\n",
       "2016-08-23           0.02\n",
       "2016-08-24           0.08\n",
       "2016-08-24           2.15\n",
       "2016-08-24           2.28"
      ]
     },
     "execution_count": 19,
     "metadata": {},
     "output_type": "execute_result"
    }
   ],
   "source": [
    "\n",
    "# Save the query results as a Pandas DataFrame and set the index to the date column\n",
    "prec_data = pd.DataFrame(precipitation, columns = ['Date' , 'Precipitation'])\n",
    "prec_data.set_index('Date', inplace=True)\n",
    "# Sort the dataframe by date\n",
    "prec_data.sort_values('Date').head(10)\n",
    "\n"
   ]
  },
  {
   "cell_type": "code",
   "execution_count": 20,
   "metadata": {},
   "outputs": [],
   "source": [
    "prec_data_ave = prec_data.groupby('Date').mean()"
   ]
  },
  {
   "cell_type": "code",
   "execution_count": 21,
   "metadata": {},
   "outputs": [
    {
     "data": {
      "text/html": [
       "<div>\n",
       "<style scoped>\n",
       "    .dataframe tbody tr th:only-of-type {\n",
       "        vertical-align: middle;\n",
       "    }\n",
       "\n",
       "    .dataframe tbody tr th {\n",
       "        vertical-align: top;\n",
       "    }\n",
       "\n",
       "    .dataframe thead th {\n",
       "        text-align: right;\n",
       "    }\n",
       "</style>\n",
       "<table border=\"1\" class=\"dataframe\">\n",
       "  <thead>\n",
       "    <tr style=\"text-align: right;\">\n",
       "      <th></th>\n",
       "      <th>Precipitation</th>\n",
       "    </tr>\n",
       "    <tr>\n",
       "      <th>Date</th>\n",
       "      <th></th>\n",
       "    </tr>\n",
       "  </thead>\n",
       "  <tbody>\n",
       "    <tr>\n",
       "      <th>2016-08-23</th>\n",
       "      <td>0.451667</td>\n",
       "    </tr>\n",
       "    <tr>\n",
       "      <th>2016-08-24</th>\n",
       "      <td>1.555000</td>\n",
       "    </tr>\n",
       "    <tr>\n",
       "      <th>2016-08-25</th>\n",
       "      <td>0.077143</td>\n",
       "    </tr>\n",
       "    <tr>\n",
       "      <th>2016-08-26</th>\n",
       "      <td>0.016667</td>\n",
       "    </tr>\n",
       "    <tr>\n",
       "      <th>2016-08-27</th>\n",
       "      <td>0.064000</td>\n",
       "    </tr>\n",
       "  </tbody>\n",
       "</table>\n",
       "</div>"
      ],
      "text/plain": [
       "            Precipitation\n",
       "Date                     \n",
       "2016-08-23       0.451667\n",
       "2016-08-24       1.555000\n",
       "2016-08-25       0.077143\n",
       "2016-08-26       0.016667\n",
       "2016-08-27       0.064000"
      ]
     },
     "execution_count": 21,
     "metadata": {},
     "output_type": "execute_result"
    }
   ],
   "source": [
    "prec_data_ave.head()"
   ]
  },
  {
   "cell_type": "code",
   "execution_count": 22,
   "metadata": {},
   "outputs": [
    {
     "data": {
      "image/png": "[encoded data removed]",
      "text/plain": [
       "<Figure size 864x576 with 1 Axes>"
      ]
     },
     "metadata": {},
     "output_type": "display_data"
    },
    {
     "data": {
      "text/plain": [
       "<Figure size 432x288 with 0 Axes>"
      ]
     },
     "metadata": {},
     "output_type": "display_data"
    }
   ],
   "source": [
    "ax = prec_data_ave.plot (kind = 'bar', width = 3, figsize=(12,8))\n",
    "plt.locator_params(axis='x', nbins=5)\n",
    "ax.xaxis.set_major_formatter(plt.NullFormatter())\n",
    "ax.tick_params(axis='x', labelsize=16)\n",
    "date_label = [value for value in prec_data_ave.index]\n",
    "ax.set_xticklabels(labels = date_label, rotation = 'vertical', fontsize=11)\n",
    "ax.grid(True)\n",
    "ax.set_xlabel('Date')\n",
    "ax.set_ylabel('Inches')\n",
    "ax.set_title('Precipitation in the Last 12 Months')\n",
    "plt.tight_layout()\n",
    "plt.show()\n",
    "plt.savefig('Images/precipitation.png')"
   ]
  },
  {
   "cell_type": "code",
   "execution_count": 23,
   "metadata": {},
   "outputs": [
    {
     "data": {
      "text/html": [
       "<div>\n",
       "<style scoped>\n",
       "    .dataframe tbody tr th:only-of-type {\n",
       "        vertical-align: middle;\n",
       "    }\n",
       "\n",
       "    .dataframe tbody tr th {\n",
       "        vertical-align: top;\n",
       "    }\n",
       "\n",
       "    .dataframe thead th {\n",
       "        text-align: right;\n",
       "    }\n",
       "</style>\n",
       "<table border=\"1\" class=\"dataframe\">\n",
       "  <thead>\n",
       "    <tr style=\"text-align: right;\">\n",
       "      <th></th>\n",
       "      <th>Precipitation</th>\n",
       "    </tr>\n",
       "  </thead>\n",
       "  <tbody>\n",
       "    <tr>\n",
       "      <th>count</th>\n",
       "      <td>2021.000000</td>\n",
       "    </tr>\n",
       "    <tr>\n",
       "      <th>mean</th>\n",
       "      <td>0.177279</td>\n",
       "    </tr>\n",
       "    <tr>\n",
       "      <th>std</th>\n",
       "      <td>0.461190</td>\n",
       "    </tr>\n",
       "    <tr>\n",
       "      <th>min</th>\n",
       "      <td>0.000000</td>\n",
       "    </tr>\n",
       "    <tr>\n",
       "      <th>25%</th>\n",
       "      <td>0.000000</td>\n",
       "    </tr>\n",
       "    <tr>\n",
       "      <th>50%</th>\n",
       "      <td>0.020000</td>\n",
       "    </tr>\n",
       "    <tr>\n",
       "      <th>75%</th>\n",
       "      <td>0.130000</td>\n",
       "    </tr>\n",
       "    <tr>\n",
       "      <th>max</th>\n",
       "      <td>6.700000</td>\n",
       "    </tr>\n",
       "  </tbody>\n",
       "</table>\n",
       "</div>"
      ],
      "text/plain": [
       "       Precipitation\n",
       "count    2021.000000\n",
       "mean        0.177279\n",
       "std         0.461190\n",
       "min         0.000000\n",
       "25%         0.000000\n",
       "50%         0.020000\n",
       "75%         0.130000\n",
       "max         6.700000"
      ]
     },
     "execution_count": 23,
     "metadata": {},
     "output_type": "execute_result"
    }
   ],
   "source": [
    "# Use Pandas to calcualte the summary statistics for the precipitation data\n",
    "prec_data.describe()"
   ]
  },
  {
   "cell_type": "code",
   "execution_count": 24,
   "metadata": {},
   "outputs": [
    {
     "data": {
      "text/plain": [
       "9"
      ]
     },
     "execution_count": 24,
     "metadata": {},
     "output_type": "execute_result"
    }
   ],
   "source": [
    "# Design a query to show how many stations are available in this dataset?\n",
    "total_stations = session.query(Station.id).count()\n",
    "total_stations\n"
   ]
  },
  {
   "cell_type": "code",
   "execution_count": 25,
   "metadata": {},
   "outputs": [
    {
     "data": {
      "text/plain": [
       "[('USC00519281', 2772),\n",
       " ('USC00519397', 2724),\n",
       " ('USC00513117', 2709),\n",
       " ('USC00519523', 2669),\n",
       " ('USC00516128', 2612),\n",
       " ('USC00514830', 2202),\n",
       " ('USC00511918', 1979),\n",
       " ('USC00517948', 1372),\n",
       " ('USC00518838', 511)]"
      ]
     },
     "execution_count": 25,
     "metadata": {},
     "output_type": "execute_result"
    }
   ],
   "source": [
    "# What are the most active stations? (i.e. what stations have the most rows)?\n",
    "# List the stations and the counts in descending order.\n",
    "sta =[Station.station, func.count(Station.name)]\n",
    "total_stationname = session.query(*sta).\\\n",
    "    filter(Station.station == Measurement.station).\\\n",
    "    group_by(Station.station).\\\n",
    "    order_by(func.count(Measurement.station).desc()).all()\n",
    "total_stationname"
   ]
  },
  {
   "cell_type": "code",
   "execution_count": 26,
   "metadata": {},
   "outputs": [
    {
     "data": {
      "text/plain": [
       "[(53.0, 87.0, 73.09795396419437)]"
      ]
     },
     "execution_count": 26,
     "metadata": {},
     "output_type": "execute_result"
    }
   ],
   "source": [
    "# Using the station id from the previous query, calculate the lowest temperature recorded, \n",
    "# highest temperature recorded, and average temperature of the most active station?\n",
    "sel = [func.min(Measurement.tobs), func.max(Measurement.tobs), func.avg(Measurement.tobs)]\n",
    "station_query = session.query(*sel).\\\n",
    "    filter(Measurement.station == sta[0]).all()\n",
    "station_query"
   ]
  },
  {
   "cell_type": "code",
   "execution_count": 27,
   "metadata": {},
   "outputs": [
    {
     "data": {
      "text/plain": [
       "('USC00519281', 2772)"
      ]
     },
     "execution_count": 27,
     "metadata": {},
     "output_type": "execute_result"
    }
   ],
   "source": [
    "# Choose the station with the highest number of temperature observations.\n",
    "# Query the last 12 months of temperature observation data for this station and plot the results as a histogram\n",
    "high_temp = session.query(Measurement.station, func.count(Measurement.tobs)).\\\n",
    "        group_by(Measurement.station).\\\n",
    "        order_by(func.count(Measurement.tobs).desc()).first()\n",
    "\n",
    "high_temp"
   ]
  },
  {
   "cell_type": "code",
   "execution_count": 28,
   "metadata": {},
   "outputs": [
    {
     "data": {
      "text/plain": [
       "[('2016-08-23', 'USC00519281', 77.0),\n",
       " ('2016-08-24', 'USC00519281', 77.0),\n",
       " ('2016-08-25', 'USC00519281', 80.0),\n",
       " ('2016-08-26', 'USC00519281', 80.0),\n",
       " ('2016-08-27', 'USC00519281', 75.0),\n",
       " ('2016-08-28', 'USC00519281', 73.0),\n",
       " ('2016-08-29', 'USC00519281', 78.0),\n",
       " ('2016-08-30', 'USC00519281', 77.0),\n",
       " ('2016-08-31', 'USC00519281', 78.0),\n",
       " ('2016-09-01', 'USC00519281', 80.0),\n",
       " ('2016-09-02', 'USC00519281', 80.0),\n",
       " ('2016-09-03', 'USC00519281', 78.0),\n",
       " ('2016-09-04', 'USC00519281', 78.0),\n",
       " ('2016-09-05', 'USC00519281', 78.0),\n",
       " ('2016-09-06', 'USC00519281', 73.0),\n",
       " ('2016-09-07', 'USC00519281', 74.0),\n",
       " ('2016-09-08', 'USC00519281', 80.0),\n",
       " ('2016-09-09', 'USC00519281', 79.0),\n",
       " ('2016-09-10', 'USC00519281', 77.0),\n",
       " ('2016-09-11', 'USC00519281', 80.0),\n",
       " ('2016-09-12', 'USC00519281', 76.0),\n",
       " ('2016-09-13', 'USC00519281', 79.0),\n",
       " ('2016-09-14', 'USC00519281', 75.0),\n",
       " ('2016-09-15', 'USC00519281', 79.0),\n",
       " ('2016-09-16', 'USC00519281', 78.0),\n",
       " ('2016-09-17', 'USC00519281', 79.0),\n",
       " ('2016-09-18', 'USC00519281', 78.0),\n",
       " ('2016-09-19', 'USC00519281', 78.0),\n",
       " ('2016-09-20', 'USC00519281', 76.0),\n",
       " ('2016-09-21', 'USC00519281', 74.0),\n",
       " ('2016-09-22', 'USC00519281', 77.0),\n",
       " ('2016-09-23', 'USC00519281', 78.0),\n",
       " ('2016-09-24', 'USC00519281', 79.0),\n",
       " ('2016-09-25', 'USC00519281', 79.0),\n",
       " ('2016-09-26', 'USC00519281', 77.0),\n",
       " ('2016-09-27', 'USC00519281', 80.0),\n",
       " ('2016-09-28', 'USC00519281', 78.0),\n",
       " ('2016-09-29', 'USC00519281', 78.0),\n",
       " ('2016-09-30', 'USC00519281', 78.0),\n",
       " ('2016-10-01', 'USC00519281', 77.0),\n",
       " ('2016-10-02', 'USC00519281', 79.0),\n",
       " ('2016-10-03', 'USC00519281', 79.0),\n",
       " ('2016-10-04', 'USC00519281', 79.0),\n",
       " ('2016-10-05', 'USC00519281', 79.0),\n",
       " ('2016-10-06', 'USC00519281', 75.0),\n",
       " ('2016-10-07', 'USC00519281', 76.0),\n",
       " ('2016-10-08', 'USC00519281', 73.0),\n",
       " ('2016-10-09', 'USC00519281', 72.0),\n",
       " ('2016-10-10', 'USC00519281', 71.0),\n",
       " ('2016-10-11', 'USC00519281', 77.0),\n",
       " ('2016-10-12', 'USC00519281', 79.0),\n",
       " ('2016-10-13', 'USC00519281', 78.0),\n",
       " ('2016-10-14', 'USC00519281', 79.0),\n",
       " ('2016-10-15', 'USC00519281', 77.0),\n",
       " ('2016-10-16', 'USC00519281', 79.0),\n",
       " ('2016-10-17', 'USC00519281', 77.0),\n",
       " ('2016-10-18', 'USC00519281', 78.0),\n",
       " ('2016-10-19', 'USC00519281', 78.0),\n",
       " ('2016-10-20', 'USC00519281', 78.0),\n",
       " ('2016-10-21', 'USC00519281', 78.0),\n",
       " ('2016-10-22', 'USC00519281', 77.0),\n",
       " ('2016-10-23', 'USC00519281', 74.0),\n",
       " ('2016-10-24', 'USC00519281', 75.0),\n",
       " ('2016-10-25', 'USC00519281', 76.0),\n",
       " ('2016-10-26', 'USC00519281', 73.0),\n",
       " ('2016-10-27', 'USC00519281', 76.0),\n",
       " ('2016-10-28', 'USC00519281', 74.0),\n",
       " ('2016-10-29', 'USC00519281', 77.0),\n",
       " ('2016-10-30', 'USC00519281', 76.0),\n",
       " ('2016-10-31', 'USC00519281', 76.0),\n",
       " ('2016-11-01', 'USC00519281', 74.0),\n",
       " ('2016-11-02', 'USC00519281', 75.0),\n",
       " ('2016-11-03', 'USC00519281', 75.0),\n",
       " ('2016-11-04', 'USC00519281', 75.0),\n",
       " ('2016-11-05', 'USC00519281', 75.0),\n",
       " ('2016-11-06', 'USC00519281', 71.0),\n",
       " ('2016-11-07', 'USC00519281', 63.0),\n",
       " ('2016-11-08', 'USC00519281', 70.0),\n",
       " ('2016-11-09', 'USC00519281', 68.0),\n",
       " ('2016-11-10', 'USC00519281', 67.0),\n",
       " ('2016-11-11', 'USC00519281', 77.0),\n",
       " ('2016-11-12', 'USC00519281', 74.0),\n",
       " ('2016-11-13', 'USC00519281', 77.0),\n",
       " ('2016-11-14', 'USC00519281', 76.0),\n",
       " ('2016-11-15', 'USC00519281', 76.0),\n",
       " ('2016-11-16', 'USC00519281', 75.0),\n",
       " ('2016-11-17', 'USC00519281', 76.0),\n",
       " ('2016-11-18', 'USC00519281', 75.0),\n",
       " ('2016-11-19', 'USC00519281', 73.0),\n",
       " ('2016-11-20', 'USC00519281', 75.0),\n",
       " ('2016-11-21', 'USC00519281', 73.0),\n",
       " ('2016-11-22', 'USC00519281', 75.0),\n",
       " ('2016-11-23', 'USC00519281', 74.0),\n",
       " ('2016-11-24', 'USC00519281', 75.0),\n",
       " ('2016-11-25', 'USC00519281', 74.0),\n",
       " ('2016-11-26', 'USC00519281', 75.0),\n",
       " ('2016-11-27', 'USC00519281', 73.0),\n",
       " ('2016-11-28', 'USC00519281', 75.0),\n",
       " ('2016-11-29', 'USC00519281', 73.0),\n",
       " ('2016-11-30', 'USC00519281', 73.0),\n",
       " ('2016-12-01', 'USC00519281', 74.0),\n",
       " ('2016-12-02', 'USC00519281', 70.0),\n",
       " ('2016-12-03', 'USC00519281', 72.0),\n",
       " ('2016-12-04', 'USC00519281', 70.0),\n",
       " ('2016-12-05', 'USC00519281', 67.0),\n",
       " ('2016-12-06', 'USC00519281', 67.0),\n",
       " ('2016-12-07', 'USC00519281', 69.0),\n",
       " ('2016-12-08', 'USC00519281', 70.0),\n",
       " ('2016-12-09', 'USC00519281', 68.0),\n",
       " ('2016-12-10', 'USC00519281', 69.0),\n",
       " ('2016-12-11', 'USC00519281', 69.0),\n",
       " ('2016-12-12', 'USC00519281', 66.0),\n",
       " ('2016-12-13', 'USC00519281', 65.0),\n",
       " ('2016-12-14', 'USC00519281', 68.0),\n",
       " ('2016-12-15', 'USC00519281', 62.0),\n",
       " ('2016-12-16', 'USC00519281', 75.0),\n",
       " ('2016-12-17', 'USC00519281', 70.0),\n",
       " ('2016-12-18', 'USC00519281', 69.0),\n",
       " ('2016-12-19', 'USC00519281', 76.0),\n",
       " ('2016-12-20', 'USC00519281', 76.0),\n",
       " ('2016-12-21', 'USC00519281', 74.0),\n",
       " ('2016-12-22', 'USC00519281', 73.0),\n",
       " ('2016-12-23', 'USC00519281', 71.0),\n",
       " ('2016-12-24', 'USC00519281', 74.0),\n",
       " ('2016-12-25', 'USC00519281', 74.0),\n",
       " ('2016-12-26', 'USC00519281', 72.0),\n",
       " ('2016-12-27', 'USC00519281', 71.0),\n",
       " ('2016-12-28', 'USC00519281', 72.0),\n",
       " ('2016-12-29', 'USC00519281', 74.0),\n",
       " ('2016-12-30', 'USC00519281', 69.0),\n",
       " ('2016-12-31', 'USC00519281', 67.0),\n",
       " ('2017-01-01', 'USC00519281', 72.0),\n",
       " ('2017-01-02', 'USC00519281', 70.0),\n",
       " ('2017-01-03', 'USC00519281', 64.0),\n",
       " ('2017-01-04', 'USC00519281', 63.0),\n",
       " ('2017-01-05', 'USC00519281', 63.0),\n",
       " ('2017-01-06', 'USC00519281', 62.0),\n",
       " ('2017-01-07', 'USC00519281', 70.0),\n",
       " ('2017-01-08', 'USC00519281', 70.0),\n",
       " ('2017-01-09', 'USC00519281', 62.0),\n",
       " ('2017-01-10', 'USC00519281', 62.0),\n",
       " ('2017-01-11', 'USC00519281', 63.0),\n",
       " ('2017-01-12', 'USC00519281', 65.0),\n",
       " ('2017-01-13', 'USC00519281', 69.0),\n",
       " ('2017-01-14', 'USC00519281', 77.0),\n",
       " ('2017-01-15', 'USC00519281', 70.0),\n",
       " ('2017-01-16', 'USC00519281', 74.0),\n",
       " ('2017-01-17', 'USC00519281', 69.0),\n",
       " ('2017-01-18', 'USC00519281', 72.0),\n",
       " ('2017-01-19', 'USC00519281', 71.0),\n",
       " ('2017-01-20', 'USC00519281', 69.0),\n",
       " ('2017-01-21', 'USC00519281', 71.0),\n",
       " ('2017-01-22', 'USC00519281', 71.0),\n",
       " ('2017-01-23', 'USC00519281', 72.0),\n",
       " ('2017-01-24', 'USC00519281', 72.0),\n",
       " ('2017-01-25', 'USC00519281', 69.0),\n",
       " ('2017-01-26', 'USC00519281', 70.0),\n",
       " ('2017-01-27', 'USC00519281', 66.0),\n",
       " ('2017-01-28', 'USC00519281', 65.0),\n",
       " ('2017-01-29', 'USC00519281', 69.0),\n",
       " ('2017-01-30', 'USC00519281', 68.0),\n",
       " ('2017-01-31', 'USC00519281', 68.0),\n",
       " ('2017-02-01', 'USC00519281', 68.0),\n",
       " ('2017-02-02', 'USC00519281', 59.0),\n",
       " ('2017-02-03', 'USC00519281', 60.0),\n",
       " ('2017-02-04', 'USC00519281', 70.0),\n",
       " ('2017-02-05', 'USC00519281', 73.0),\n",
       " ('2017-02-06', 'USC00519281', 75.0),\n",
       " ('2017-02-07', 'USC00519281', 64.0),\n",
       " ('2017-02-08', 'USC00519281', 59.0),\n",
       " ('2017-02-09', 'USC00519281', 59.0),\n",
       " ('2017-02-10', 'USC00519281', 62.0),\n",
       " ('2017-02-11', 'USC00519281', 68.0),\n",
       " ('2017-02-12', 'USC00519281', 70.0),\n",
       " ('2017-02-13', 'USC00519281', 73.0),\n",
       " ('2017-02-14', 'USC00519281', 79.0),\n",
       " ('2017-02-15', 'USC00519281', 75.0),\n",
       " ('2017-02-16', 'USC00519281', 65.0),\n",
       " ('2017-02-17', 'USC00519281', 70.0),\n",
       " ('2017-02-18', 'USC00519281', 74.0),\n",
       " ('2017-02-19', 'USC00519281', 70.0),\n",
       " ('2017-02-20', 'USC00519281', 70.0),\n",
       " ('2017-02-21', 'USC00519281', 71.0),\n",
       " ('2017-02-22', 'USC00519281', 71.0),\n",
       " ('2017-02-23', 'USC00519281', 71.0),\n",
       " ('2017-02-24', 'USC00519281', 69.0),\n",
       " ('2017-02-25', 'USC00519281', 61.0),\n",
       " ('2017-02-26', 'USC00519281', 67.0),\n",
       " ('2017-02-27', 'USC00519281', 65.0),\n",
       " ('2017-02-28', 'USC00519281', 72.0),\n",
       " ('2017-03-01', 'USC00519281', 71.0),\n",
       " ('2017-03-02', 'USC00519281', 73.0),\n",
       " ('2017-03-03', 'USC00519281', 72.0),\n",
       " ('2017-03-04', 'USC00519281', 77.0),\n",
       " ('2017-03-05', 'USC00519281', 73.0),\n",
       " ('2017-03-06', 'USC00519281', 67.0),\n",
       " ('2017-03-07', 'USC00519281', 62.0),\n",
       " ('2017-03-08', 'USC00519281', 64.0),\n",
       " ('2017-03-09', 'USC00519281', 67.0),\n",
       " ('2017-03-10', 'USC00519281', 66.0),\n",
       " ('2017-03-11', 'USC00519281', 81.0),\n",
       " ('2017-03-12', 'USC00519281', 69.0),\n",
       " ('2017-03-13', 'USC00519281', 66.0),\n",
       " ('2017-03-14', 'USC00519281', 67.0),\n",
       " ('2017-03-15', 'USC00519281', 69.0),\n",
       " ('2017-03-16', 'USC00519281', 66.0),\n",
       " ('2017-03-17', 'USC00519281', 68.0),\n",
       " ('2017-03-18', 'USC00519281', 65.0),\n",
       " ('2017-03-19', 'USC00519281', 74.0),\n",
       " ('2017-03-20', 'USC00519281', 69.0),\n",
       " ('2017-03-21', 'USC00519281', 72.0),\n",
       " ('2017-03-22', 'USC00519281', 73.0),\n",
       " ('2017-03-23', 'USC00519281', 72.0),\n",
       " ('2017-03-24', 'USC00519281', 71.0),\n",
       " ('2017-03-25', 'USC00519281', 76.0),\n",
       " ('2017-03-26', 'USC00519281', 77.0),\n",
       " ('2017-03-27', 'USC00519281', 76.0),\n",
       " ('2017-03-28', 'USC00519281', 74.0),\n",
       " ('2017-03-29', 'USC00519281', 68.0),\n",
       " ('2017-03-30', 'USC00519281', 73.0),\n",
       " ('2017-03-31', 'USC00519281', 71.0),\n",
       " ('2017-04-01', 'USC00519281', 74.0),\n",
       " ('2017-04-02', 'USC00519281', 75.0),\n",
       " ('2017-04-03', 'USC00519281', 70.0),\n",
       " ('2017-04-04', 'USC00519281', 67.0),\n",
       " ('2017-04-05', 'USC00519281', 71.0),\n",
       " ('2017-04-06', 'USC00519281', 67.0),\n",
       " ('2017-04-07', 'USC00519281', 74.0),\n",
       " ('2017-04-08', 'USC00519281', 77.0),\n",
       " ('2017-04-09', 'USC00519281', 78.0),\n",
       " ('2017-04-10', 'USC00519281', 67.0),\n",
       " ('2017-04-11', 'USC00519281', 70.0),\n",
       " ('2017-04-12', 'USC00519281', 69.0),\n",
       " ('2017-04-13', 'USC00519281', 69.0),\n",
       " ('2017-04-14', 'USC00519281', 74.0),\n",
       " ('2017-04-15', 'USC00519281', 78.0),\n",
       " ('2017-04-16', 'USC00519281', 71.0),\n",
       " ('2017-04-17', 'USC00519281', 67.0),\n",
       " ('2017-04-18', 'USC00519281', 68.0),\n",
       " ('2017-04-19', 'USC00519281', 67.0),\n",
       " ('2017-04-20', 'USC00519281', 76.0),\n",
       " ('2017-04-21', 'USC00519281', 69.0),\n",
       " ('2017-04-22', 'USC00519281', 72.0),\n",
       " ('2017-04-23', 'USC00519281', 76.0),\n",
       " ('2017-04-24', 'USC00519281', 68.0),\n",
       " ('2017-04-25', 'USC00519281', 72.0),\n",
       " ('2017-04-26', 'USC00519281', 74.0),\n",
       " ('2017-04-27', 'USC00519281', 70.0),\n",
       " ('2017-04-28', 'USC00519281', 67.0),\n",
       " ('2017-04-29', 'USC00519281', 72.0),\n",
       " ('2017-04-30', 'USC00519281', 60.0),\n",
       " ('2017-05-01', 'USC00519281', 65.0),\n",
       " ('2017-05-02', 'USC00519281', 75.0),\n",
       " ('2017-05-03', 'USC00519281', 70.0),\n",
       " ('2017-05-04', 'USC00519281', 75.0),\n",
       " ('2017-05-05', 'USC00519281', 70.0),\n",
       " ('2017-05-06', 'USC00519281', 79.0),\n",
       " ('2017-05-07', 'USC00519281', 75.0),\n",
       " ('2017-05-08', 'USC00519281', 70.0),\n",
       " ('2017-05-09', 'USC00519281', 67.0),\n",
       " ('2017-05-10', 'USC00519281', 74.0),\n",
       " ('2017-05-11', 'USC00519281', 70.0),\n",
       " ('2017-05-12', 'USC00519281', 75.0),\n",
       " ('2017-05-13', 'USC00519281', 76.0),\n",
       " ('2017-05-14', 'USC00519281', 77.0),\n",
       " ('2017-05-15', 'USC00519281', 74.0),\n",
       " ('2017-05-16', 'USC00519281', 74.0),\n",
       " ('2017-05-17', 'USC00519281', 74.0),\n",
       " ('2017-05-18', 'USC00519281', 69.0),\n",
       " ('2017-05-19', 'USC00519281', 68.0),\n",
       " ('2017-05-20', 'USC00519281', 76.0),\n",
       " ('2017-05-21', 'USC00519281', 74.0),\n",
       " ('2017-05-22', 'USC00519281', 71.0),\n",
       " ('2017-05-23', 'USC00519281', 71.0),\n",
       " ('2017-05-24', 'USC00519281', 74.0),\n",
       " ('2017-05-25', 'USC00519281', 74.0),\n",
       " ('2017-05-26', 'USC00519281', 74.0),\n",
       " ('2017-05-27', 'USC00519281', 74.0),\n",
       " ('2017-05-28', 'USC00519281', 80.0),\n",
       " ('2017-05-29', 'USC00519281', 74.0),\n",
       " ('2017-05-30', 'USC00519281', 72.0),\n",
       " ('2017-05-31', 'USC00519281', 75.0),\n",
       " ('2017-06-01', 'USC00519281', 80.0),\n",
       " ('2017-06-02', 'USC00519281', 76.0),\n",
       " ('2017-06-03', 'USC00519281', 76.0),\n",
       " ('2017-06-04', 'USC00519281', 77.0),\n",
       " ('2017-06-05', 'USC00519281', 75.0),\n",
       " ('2017-06-06', 'USC00519281', 75.0),\n",
       " ('2017-06-07', 'USC00519281', 75.0),\n",
       " ('2017-06-08', 'USC00519281', 75.0),\n",
       " ('2017-06-09', 'USC00519281', 72.0),\n",
       " ('2017-06-10', 'USC00519281', 74.0),\n",
       " ('2017-06-11', 'USC00519281', 74.0),\n",
       " ('2017-06-12', 'USC00519281', 74.0),\n",
       " ('2017-06-13', 'USC00519281', 76.0),\n",
       " ('2017-06-14', 'USC00519281', 74.0),\n",
       " ('2017-06-15', 'USC00519281', 75.0),\n",
       " ('2017-06-16', 'USC00519281', 73.0),\n",
       " ('2017-06-17', 'USC00519281', 79.0),\n",
       " ('2017-06-18', 'USC00519281', 75.0),\n",
       " ('2017-06-19', 'USC00519281', 72.0),\n",
       " ('2017-06-20', 'USC00519281', 72.0),\n",
       " ('2017-06-21', 'USC00519281', 74.0),\n",
       " ('2017-06-22', 'USC00519281', 72.0),\n",
       " ('2017-06-23', 'USC00519281', 72.0),\n",
       " ('2017-06-24', 'USC00519281', 77.0),\n",
       " ('2017-06-25', 'USC00519281', 71.0),\n",
       " ('2017-06-26', 'USC00519281', 73.0),\n",
       " ('2017-06-27', 'USC00519281', 76.0),\n",
       " ('2017-06-28', 'USC00519281', 77.0),\n",
       " ('2017-06-29', 'USC00519281', 76.0),\n",
       " ('2017-06-30', 'USC00519281', 76.0),\n",
       " ('2017-07-01', 'USC00519281', 79.0),\n",
       " ('2017-07-02', 'USC00519281', 81.0),\n",
       " ('2017-07-03', 'USC00519281', 76.0),\n",
       " ('2017-07-04', 'USC00519281', 78.0),\n",
       " ('2017-07-05', 'USC00519281', 77.0),\n",
       " ('2017-07-06', 'USC00519281', 74.0),\n",
       " ('2017-07-07', 'USC00519281', 75.0),\n",
       " ('2017-07-08', 'USC00519281', 78.0),\n",
       " ('2017-07-09', 'USC00519281', 78.0),\n",
       " ('2017-07-10', 'USC00519281', 69.0),\n",
       " ('2017-07-11', 'USC00519281', 72.0),\n",
       " ('2017-07-12', 'USC00519281', 74.0),\n",
       " ('2017-07-13', 'USC00519281', 74.0),\n",
       " ('2017-07-14', 'USC00519281', 76.0),\n",
       " ('2017-07-15', 'USC00519281', 80.0),\n",
       " ('2017-07-16', 'USC00519281', 80.0),\n",
       " ('2017-07-17', 'USC00519281', 76.0),\n",
       " ('2017-07-18', 'USC00519281', 76.0),\n",
       " ('2017-07-19', 'USC00519281', 76.0),\n",
       " ('2017-07-20', 'USC00519281', 77.0),\n",
       " ('2017-07-21', 'USC00519281', 77.0),\n",
       " ('2017-07-22', 'USC00519281', 77.0),\n",
       " ('2017-07-23', 'USC00519281', 82.0),\n",
       " ('2017-07-24', 'USC00519281', 75.0),\n",
       " ('2017-07-25', 'USC00519281', 77.0),\n",
       " ('2017-07-26', 'USC00519281', 75.0),\n",
       " ('2017-07-27', 'USC00519281', 76.0),\n",
       " ('2017-07-28', 'USC00519281', 81.0),\n",
       " ('2017-07-29', 'USC00519281', 82.0),\n",
       " ('2017-07-30', 'USC00519281', 81.0),\n",
       " ('2017-07-31', 'USC00519281', 76.0),\n",
       " ('2017-08-04', 'USC00519281', 77.0),\n",
       " ('2017-08-05', 'USC00519281', 82.0),\n",
       " ('2017-08-06', 'USC00519281', 83.0),\n",
       " ('2017-08-13', 'USC00519281', 77.0),\n",
       " ('2017-08-14', 'USC00519281', 77.0),\n",
       " ('2017-08-15', 'USC00519281', 77.0),\n",
       " ('2017-08-16', 'USC00519281', 76.0),\n",
       " ('2017-08-17', 'USC00519281', 76.0),\n",
       " ('2017-08-18', 'USC00519281', 79.0)]"
      ]
     },
     "execution_count": 28,
     "metadata": {},
     "output_type": "execute_result"
    }
   ],
   "source": [
    "station_temp = session.query(Measurement.date, Measurement.station, Measurement.tobs).\\\n",
    "    filter(Measurement.date >= last12months).\\\n",
    "    filter(Measurement.station == high_temp[0]).all()\n",
    "station_temp"
   ]
  },
  {
   "cell_type": "code",
   "execution_count": 29,
   "metadata": {},
   "outputs": [
    {
     "data": {
      "text/html": [
       "<div>\n",
       "<style scoped>\n",
       "    .dataframe tbody tr th:only-of-type {\n",
       "        vertical-align: middle;\n",
       "    }\n",
       "\n",
       "    .dataframe tbody tr th {\n",
       "        vertical-align: top;\n",
       "    }\n",
       "\n",
       "    .dataframe thead th {\n",
       "        text-align: right;\n",
       "    }\n",
       "</style>\n",
       "<table border=\"1\" class=\"dataframe\">\n",
       "  <thead>\n",
       "    <tr style=\"text-align: right;\">\n",
       "      <th></th>\n",
       "      <th>Date</th>\n",
       "      <th>Station</th>\n",
       "      <th>Temp Observation</th>\n",
       "    </tr>\n",
       "  </thead>\n",
       "  <tbody>\n",
       "    <tr>\n",
       "      <th>0</th>\n",
       "      <td>2016-08-23</td>\n",
       "      <td>USC00519281</td>\n",
       "      <td>77.0</td>\n",
       "    </tr>\n",
       "    <tr>\n",
       "      <th>1</th>\n",
       "      <td>2016-08-24</td>\n",
       "      <td>USC00519281</td>\n",
       "      <td>77.0</td>\n",
       "    </tr>\n",
       "    <tr>\n",
       "      <th>2</th>\n",
       "      <td>2016-08-25</td>\n",
       "      <td>USC00519281</td>\n",
       "      <td>80.0</td>\n",
       "    </tr>\n",
       "    <tr>\n",
       "      <th>3</th>\n",
       "      <td>2016-08-26</td>\n",
       "      <td>USC00519281</td>\n",
       "      <td>80.0</td>\n",
       "    </tr>\n",
       "    <tr>\n",
       "      <th>4</th>\n",
       "      <td>2016-08-27</td>\n",
       "      <td>USC00519281</td>\n",
       "      <td>75.0</td>\n",
       "    </tr>\n",
       "  </tbody>\n",
       "</table>\n",
       "</div>"
      ],
      "text/plain": [
       "         Date      Station  Temp Observation\n",
       "0  2016-08-23  USC00519281              77.0\n",
       "1  2016-08-24  USC00519281              77.0\n",
       "2  2016-08-25  USC00519281              80.0\n",
       "3  2016-08-26  USC00519281              80.0\n",
       "4  2016-08-27  USC00519281              75.0"
      ]
     },
     "execution_count": 29,
     "metadata": {},
     "output_type": "execute_result"
    }
   ],
   "source": [
    "station_temp_df = pd.DataFrame(station_temp, columns= ['Date', 'Station' , 'Temp Observation'])\n",
    "station_temp_df.head()"
   ]
  },
  {
   "cell_type": "code",
   "execution_count": 30,
   "metadata": {},
   "outputs": [
    {
     "data": {
      "image/png": "[encoded data removed]",
      "text/plain": [
       "<Figure size 1080x720 with 1 Axes>"
      ]
     },
     "metadata": {},
     "output_type": "display_data"
    },
    {
     "data": {
      "text/plain": [
       "<Figure size 432x288 with 0 Axes>"
      ]
     },
     "metadata": {},
     "output_type": "display_data"
    }
   ],
   "source": [
    "plt.figure(figsize=(15,10))\n",
    "plt.hist(np.ravel(station_temp_df['Temp Observation']), bins = 12)\n",
    "plt.xlabel('Temperature')\n",
    "plt.ylabel('Frequency')\n",
    "plt.legend('tobs', loc = 'best')\n",
    "plt.show()\n",
    "plt.tight_layout()\n",
    "plt.savefig('Images/station_histogram.png')"
   ]
  },
  {
   "cell_type": "markdown",
   "metadata": {},
   "source": [
    "## Bonus Challenge Assignment"
   ]
  },
  {
   "cell_type": "code",
   "execution_count": 31,
   "metadata": {},
   "outputs": [
    {
     "name": "stdout",
     "output_type": "stream",
     "text": [
      "[(62.0, 69.57142857142857, 74.0)]\n"
     ]
    }
   ],
   "source": [
    "# This function called `calc_temps` will accept start date and end date in the format '%Y-%m-%d' \n",
    "# and return the minimum, average, and maximum temperatures for that range of dates\n",
    "def calc_temps(start_date, end_date):\n",
    "    \"\"\"TMIN, TAVG, and TMAX for a list of dates.\n",
    "    \n",
    "    Args:\n",
    "        start_date (string): A date string in the format %Y-%m-%d\n",
    "        end_date (string): A date string in the format %Y-%m-%d\n",
    "        \n",
    "    Returns:\n",
    "        TMIN, TAVE, and TMAX\n",
    "    \"\"\"\n",
    "    \n",
    "    return session.query(func.min(Measurement.tobs), func.avg(Measurement.tobs), func.max(Measurement.tobs)).\\\n",
    "        filter(Measurement.date >= start_date).filter(Measurement.date <= end_date).all()\n",
    "\n",
    "# function usage example\n",
    "print(calc_temps('2012-02-28', '2012-03-05'))"
   ]
  },
  {
   "cell_type": "code",
   "execution_count": 32,
   "metadata": {},
   "outputs": [
    {
     "data": {
      "text/plain": [
       "[(58.0, 74.59058295964125, 87.0)]"
      ]
     },
     "execution_count": 32,
     "metadata": {},
     "output_type": "execute_result"
    }
   ],
   "source": [
    "# Use your previous function `calc_temps` to calculate the tmin, tavg, and tmax \n",
    "# for your trip using the previous year's data for those same dates.\n",
    "prev_yr_data = calc_temps('2016-08-23', '2017-08-23')\n",
    "prev_yr_data\n"
   ]
  },
  {
   "cell_type": "code",
   "execution_count": 33,
   "metadata": {},
   "outputs": [],
   "source": [
    "# Plot the results from your previous query as a bar chart. \n",
    "# Use \"Trip Avg Temp\" as your Title\n",
    "# Use the average temperature for the y value\n",
    "# Use the peak-to-peak (tmax-tmin) value as the y error bar (yerr)\n",
    "tmax = prev_yr_data[0][2]\n",
    "tmin = prev_yr_data[0][0]\n",
    "tavg = prev_yr_data[0][1]\n",
    "peak_to_peak = tmax - tmin\n"
   ]
  },
  {
   "cell_type": "code",
   "execution_count": 34,
   "metadata": {},
   "outputs": [
    {
     "data": {
      "image/png": "[encoded data removed]",
      "text/plain": [
       "<Figure size 360x720 with 1 Axes>"
      ]
     },
     "metadata": {},
     "output_type": "display_data"
    }
   ],
   "source": [
    "fig, ax1 = plt.subplots(figsize = (5,10))\n",
    "ax1.bar(x=1, height = tavg, yerr = peak_to_peak/2, alpha=0.5, width = 0.4, color = 'coral')\n",
    "ax1.set_xticks([0])\n",
    "plt.title('Trip Avg Temp')\n",
    "plt.ylabel('Temp')\n",
    "plt.savefig('Images/trip_avg_temp.png')\n",
    "plt.tight_layout()\n",
    "plt.show()"
   ]
  },
  {
   "cell_type": "code",
   "execution_count": 35,
   "metadata": {},
   "outputs": [
    {
     "data": {
      "text/plain": [
       "[('USC00517948', 'PEARL CITY, HI US', 21.3934, -157.9751, 4.59),\n",
       " ('USC00519397', 'WAIKIKI 717.2, HI US', 21.2716, -157.8168, 16.089999999999986),\n",
       " ('USC00514830', 'KUALOA RANCH HEADQUARTERS 886.9, HI US', 21.5213, -157.8374, 33.239999999999995),\n",
       " ('USC00519523', 'WAIMANALO EXPERIMENTAL FARM, HI US', 21.33556, -157.71139, 38.01),\n",
       " ('USC00513117', 'KANEOHE 838.1, HI US', 21.4234, -157.8015, 48.510000000000026),\n",
       " ('USC00519281', 'WAIHEE 837.5, HI US', 21.45167, -157.84888999999998, 70.03000000000003),\n",
       " ('USC00516128', 'MANOA LYON ARBO 785.2, HI US', 21.3331, -157.8025, 147.81000000000006)]"
      ]
     },
     "execution_count": 35,
     "metadata": {},
     "output_type": "execute_result"
    }
   ],
   "source": [
    "# Calculate the total amount of rainfall per weather station for your trip dates using the previous year's matching dates.\n",
    "# Sort this in descending order by precipitation amount and list the station, name, latitude, longitude, and elevation\n",
    "\n",
    "rainfall = session.query(Measurement.station, Station.name, Station.latitude, Station.longitude, func.sum(Measurement.prcp)).\\\n",
    "    filter(Measurement.station == Station.station).\\\n",
    "    filter(Measurement.date.between(last12months,latestdate)).\\\n",
    "    group_by(Measurement.station).\\\n",
    "    order_by(func.sum(Measurement.prcp)).all()\n",
    "\n",
    "rainfall\n"
   ]
  },
  {
   "cell_type": "code",
   "execution_count": 36,
   "metadata": {},
   "outputs": [],
   "source": [
    "session.close()"
   ]
  }
 ],
 "metadata": {
  "interpreter": {
   "hash": "eec428a47ec18d55cec1cafb42f021986a5c1b09b0b39c84469c1c0c1f7c0c77"
  },
  "kernel_info": {
   "name": "python3"
  },
  "kernelspec": {
   "display_name": "Python 3.9.7 ('base')",
   "language": "python",
   "name": "python3"
  },
  "language_info": {
   "codemirror_mode": {
    "name": "ipython",
    "version": 3
   },
   "file_extension": ".py",
   "mimetype": "text/x-python",
   "name": "python",
   "nbconvert_exporter": "python",
   "pygments_lexer": "ipython3",
   "version": "3.9.7"
  },
  "nteract": {
   "version": "0.12.3"
  },
  "varInspector": {
   "cols": {
    "lenName": 16,
    "lenType": 16,
    "lenVar": 40
   },
   "kernels_config": {
    "python": {
     "delete_cmd_postfix": "",
     "delete_cmd_prefix": "del ",
     "library": "var_list.py",
     "varRefreshCmd": "print(var_dic_list())"
    },
    "r": {
     "delete_cmd_postfix": ") ",
     "delete_cmd_prefix": "rm(",
     "library": "var_list.r",
     "varRefreshCmd": "cat(var_dic_list()) "
    }
   },
   "types_to_exclude": [
    "module",
    "function",
    "builtin_function_or_method",
    "instance",
    "_Feature"
   ],
   "window_display": false
  }
 },
 "nbformat": 4,
 "nbformat_minor": 2
}
